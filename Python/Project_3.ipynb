{
  "cells": [
    {
      "cell_type": "markdown",
      "metadata": {
        "id": "7CnQVxEsnw_R"
      },
      "source": [
        "# CS 2150 Computer Project 3: What's in a Base? That which we call thirteen by any other radix would still be as prime.\n",
        "\n",
        "**Goals:** Gain an appreciation for base conversions and various representations of integers.\n",
        "\n",
        "**Instructions:** Carefully read all of the text in the Markdown cells; these give you information about the assignment. **Numbered, heading-level text at the bottom of the document describes the project deliverables.** Cells requesting the implementation of a function also include `assert` statements. Use these statements as a guide to the expected output of your function; if the assertions fail, then the function is invalid.\n",
        "\n",
        "**Note: Include each deliverable directly underneath the markdown cell which asks for it.** \n",
        "\n",
        "**Note also: when we receive your notebook, the first thing we will do is clear its memory and run it from the beginning.** You are responsible for ensuring that when we do this, the entire notebook executes and computes the desired results. Notebooks which fail to execute will typically receive low grades.\n",
        "\n",
        "**Note this too: hard-coded answers, even if correct, will be awarded few if any points.** Your answers should be generated programmatically, not derived offline and then hard-coded.\n",
        "\n",
        "**Beware:** This project includes a markdown deliverable in which you are expected to write some equations in LaTex!"
      ]
    },
    {
      "cell_type": "markdown",
      "metadata": {
        "id": "pVTmWfvPnw_T"
      },
      "source": [
        "## Introduction\n",
        "\n",
        "In the videos, Dr. Brown talked about decimal and binary representations of numbers. To recall, here are the definitions of both of those:\n",
        "\n",
        "> The decimal representation of a positive integer $X$ is a string of digits $d_nd_{n-1}\\dots d_2d_1d_0$, where each $d_i\\in\\{0,1,2,3,4,5,6,7,8,9\\}$ and $X=d_n\\cdot 10^n+d_{n-1}\\cdot 10^{n-1}+\\dots+d_2\\cdot 10^2+d_1\\cdot 10^1+d_0\\cdot 10^0$.\n",
        "\n",
        "> The binary representation of a positive integer $X$ is a string of digits $b_nb_{n-1}\\dots b_2b_1b_0$, where each $b_i\\in\\{0,1\\}$ and $X=b_n\\cdot 2^n+b_{n-1}\\cdot 2^{n-1}+\\dots+b_2\\cdot 2^2+b_1\\cdot 2^1+b_0\\cdot 2^0$\n",
        "\n",
        "# Deliverable #1: General Base Representation *In Math!*\n",
        "Using the next markdown cell, give a definition for the representation of a positive integer $X$ in a general base $B$. You will want to use LaTeX syntax to affect super- and sub-scripts."
      ]
    },
    {
      "cell_type": "markdown",
      "metadata": {
        "id": "pq3Pdi3vnw_U"
      },
      "source": [
        "The representation of a positive integer $X$ in a base $B$ is...\n",
        "\n",
        "\n",
        "> The decimal representation of a positive integer $X$ is a string of digits $d_nd_{n-1}\\dots d_2d_1d_0$, where each $d_i\\in\\{0,1,…,B-1\\}$ and $X=d_n\\cdot B^n+d_{n-1}\\cdot B^{n-1}+\\dots+d_2\\cdot B^2+d_1\\cdot B^1+d_0\\cdot B^0$."
      ]
    },
    {
      "cell_type": "markdown",
      "source": [
        "The $i$th terms in the sum above is:\n",
        "$\n",
        "d_i ⋅B^i\n",
        "$"
      ],
      "metadata": {
        "id": "wO1lUfOK7Na6"
      }
    },
    {
      "cell_type": "code",
      "source": [],
      "metadata": {
        "id": "a-zxz2mN3J_e"
      },
      "execution_count": null,
      "outputs": []
    },
    {
      "cell_type": "code",
      "source": [],
      "metadata": {
        "id": "Hiw8yGuP1weS"
      },
      "execution_count": null,
      "outputs": []
    },
    {
      "cell_type": "markdown",
      "metadata": {
        "id": "dnpDIjaBnw_V"
      },
      "source": [
        "## Computer Representations\n",
        "Computers natively represent numbers in binary. When we interact with computers, the internal representation is converted to a string of characters that are convenient for humans, be that decimal, hexadecimal, or otherwise. So, we are going to implement functions that translate to and from the internal representation and several arbitrary bases:\n",
        "\n",
        "- Binary (base 2)\n",
        "- Octal (base 8)\n",
        "- Decimal (base 10)\n",
        "- Duodecimal (base 12)$^1$\n",
        "- Hexadecimal (base 16)\n",
        "- Garblaxian (base 59)\n",
        "- Cuneiform (base 60)\n",
        "\n",
        "The next cell defines the sets of digits each of these systems employ."
      ]
    },
    {
      "cell_type": "code",
      "execution_count": null,
      "metadata": {
        "id": "EealIhXJnw_V"
      },
      "outputs": [],
      "source": [
        "base2 = 'Ol'\n",
        "base8 = 'O1234567'\n",
        "base10 = 'O123456789'\n",
        "base16 = 'O123456789ABCDEF'\n",
        "duodecimal = 'O123456789AB'\n",
        "aliens = 'ᐁᐃᐄᐅᐆᐇᐉᐊᐋᐖᐛᐯᐱᐲᐳᐴᐵᐷᐸᐹᑀᑂᑅᑇᑈᑌᑍᑎᑏᑐᑑᑒᑓᑔᑕᑖᑝᑟᑢᑤᑥᑫᑭᑮᑯᑰᑱᑲᒉᒋᒌᒍᒏᒐᒒᒕᒗᒘᒝ'\n",
        "babylonian = ['𒊹𒊹','𒊹𒑰','𒊹𒈫','𒊹𒐈','𒊹𒐉','𒊹𒐊','𒊹𒐋','𒊹𒑂','𒊹𒑄','𒊹𒑆','𒌋𒊹','𒌋𒑰','𒌋𒈫','𒌋𒐈','𒌋𒐉','𒌋𒐊','𒌋𒐋','𒌋𒑂','𒌋𒑄','𒌋𒑆','𒎙𒊹','𒎙𒑰','𒎙𒈫','𒎙𒐈','𒎙𒐉','𒎙𒐊','𒎙𒐋','𒎙𒑂','𒎙𒑄','𒎙𒑆','𒌍𒊹','𒌍𒑰','𒌍𒈫','𒌍𒐈','𒌍𒐉','𒌍𒐊','𒌍𒐋','𒌍𒑂','𒌍𒑄','𒌍𒑆','𒑩𒊹','𒑩𒑰','𒑩𒈫','𒑩𒐈','𒑩𒐉','𒑩𒐊','𒑩𒐋','𒑩𒑂','𒑩𒑄','𒑩𒑆','𒑪𒊹','𒑪𒑰','𒑪𒈫','𒑪𒐈','𒑪𒐉','𒑪𒐊','𒑪𒐋','𒑪𒑂','𒑪𒑄','𒑪𒑆']"
      ]
    },
    {
      "cell_type": "markdown",
      "metadata": {
        "id": "xYzTA4K7nw_W"
      },
      "source": [
        "Ideally, your implementation of each function will support any and all of these counting systems. However, since the representation in the Babylonian system are composed of two UTF8 characters per digit, the tests for each deliverable will not prevent you from working on the remaining deliverables in this project."
      ]
    },
    {
      "cell_type": "code",
      "execution_count": null,
      "metadata": {
        "id": "UAilNRaXnw_W"
      },
      "outputs": [],
      "source": [
        "## DO NOT MODIFY THIS FUNCTION! IT IS USED INSTEAD OF assert TO TEST YOUR CODE\n",
        "def expectEqual(a, b):\n",
        "    if a != b: print('FAIL expected:', b, ' got:', a)"
      ]
    },
    {
      "cell_type": "markdown",
      "metadata": {
        "id": "aTJ_7XMInw_W"
      },
      "source": [
        "# Deliverable #2: General String to Integer\n",
        "Implement a number parser. The function should take a string representation of a number and a base and convert the string into a Python integer. **Note: in all deliverables, hard-coded components may help you pass tests, but they will receive very few points.** For example, the character `'O'` always has the value 0, but we will not look favorably on code which says something like `if character=='O' : value = 0`. Your code should infer the value of the character `'O'` based on its *position* in the string `base2`, etc."
      ]
    },
    {
      "cell_type": "code",
      "source": [
        "#Notes\n",
        "#di*b^i\n"
      ],
      "metadata": {
        "id": "NiLpbeXx4edW"
      },
      "execution_count": null,
      "outputs": []
    },
    {
      "cell_type": "markdown",
      "source": [
        "`integer % len(base)` <-- this gives the value of the least significant digit\n",
        "\n",
        "`integer = integer // len(base)` <-- this give the integer to deal with the next iteration"
      ],
      "metadata": {
        "id": "q0DCSvA19r04"
      }
    },
    {
      "cell_type": "code",
      "execution_count": null,
      "metadata": {
        "id": "af-AoyxHnw_W"
      },
      "outputs": [],
      "source": [
        "import math\n",
        "def stringToInt(number, base):\n",
        "    # TODO: implement number parser\n",
        "    B = len(base) #length of base\n",
        "    charLen = len(base[0]) #length of 'character'\n",
        "    final = 0 # Total value\n",
        "    power = 0 #power through iteration\n",
        "    for i in range( (len(number)), 0, -(charLen) ):\n",
        "      char = number[i - charLen:i]\n",
        "      num = base.index(char)\n",
        "      final += (num * pow(B,power))\n",
        "      power+=1\n",
        "    return final\n",
        "\n",
        "expectEqual(stringToInt('2O', base10), 20)\n",
        "expectEqual(stringToInt('31337', base10), 31337)\n",
        "expectEqual(stringToInt('lOlOO', base2), 20)\n",
        "expectEqual(stringToInt('llllOlOOllOlOOl', base2), 31337)\n",
        "expectEqual(stringToInt('2O', base8), 16)\n",
        "expectEqual(stringToInt('31337', base8), 13023)\n",
        "expectEqual(stringToInt('2O', base16), 32)\n",
        "expectEqual(stringToInt('31337', base16), 201527)\n",
        "expectEqual(stringToInt('ᑀ', aliens), 20)\n",
        "expectEqual(stringToInt('𒎙𒊹', babylonian), 20) \n",
        "expectEqual(stringToInt('𒊹𒈫𒊹𒐈', babylonian), 123)\n",
        "expectEqual(stringToInt('bb','ab'), 3)"
      ]
    },
    {
      "cell_type": "markdown",
      "metadata": {
        "id": "m_ImvT4_nw_X"
      },
      "source": [
        "# Deliverable #3: Integer to String representation\n",
        "\n",
        "Given an integer and a base, generate the string representation of number in given base."
      ]
    },
    {
      "cell_type": "code",
      "execution_count": null,
      "metadata": {
        "id": "BIrW2tDunw_X"
      },
      "outputs": [],
      "source": [
        "def intToString(integer, base):\n",
        "    # TODO: implement string representation\n",
        "    check = True\n",
        "    q = integer\n",
        "    final = ''\n",
        "    B = len(base)\n",
        "    i = 0\n",
        "    charLen = len(base[0])\n",
        "    while (check) :\n",
        "      r = q % B\n",
        "      if (r == q) :\n",
        "        check = False\n",
        "      else :\n",
        "        q = q // B\n",
        "      if (charLen > 1) :\n",
        "        final = final + base[r][::-1]\n",
        "      else :\n",
        "        final = final + base[r]\n",
        "    final = final[::-1]\n",
        "    return final\n",
        "\n",
        "expectEqual(intToString(1230,base10), '123O')\n",
        "expectEqual(intToString(31337,base10), '31337')\n",
        "expectEqual(intToString(123,base2), 'llllOll')\n",
        "expectEqual(intToString(31337,base2), 'llllOlOOllOlOOl')\n",
        "expectEqual(intToString(31337,base8), '75151')\n",
        "expectEqual(intToString(123,base8), '173')\n",
        "expectEqual(intToString(123,duodecimal), 'A3')\n",
        "expectEqual(intToString(31337,duodecimal), '16175')\n",
        "expectEqual(intToString(123,base16), '7B')\n",
        "expectEqual(intToString(31337,base16), '7A69')\n",
        "expectEqual(intToString(123,aliens), 'ᐄᐇ')\n",
        "expectEqual(intToString(123,babylonian), '𒊹𒈫𒊹𒐈')\n",
        "expectEqual(intToString(51,babylonian), '𒑪𒑰')\n",
        "expectEqual(intToString(7,'ab'),'bbb')"
      ]
    },
    {
      "cell_type": "markdown",
      "metadata": {
        "id": "hieJ1bOCnw_Z"
      },
      "source": [
        "## Integer Operations: Addition\n",
        "\n",
        "Sometime in elementary school, you probably learned how to perform the addition operation. You may have also learned how to add numbers with more than one decimal digit. But, let's review. Given two numbers, $a,b$ represented in decimal as $a_na_{n-1}\\dots a_2a_1a_0$ and $b_mb_{m-1}\\dots b_2b_1b_0$, respectively, then the following procedure will yield $a+b=c$ represented in decimal as $c_pc_{p-1}\\dots c_2c_1c_0$ where $p$ is the greater of $m$ and $n$:\n",
        "\n",
        "0. Let $carry=0$.\n",
        "1. Let $i=0$.\n",
        "2. If $a_i$ and $b_i$ exist, let $c_i=a_i+b_i+carry$.\n",
        "3. Otherwise:\n",
        "  3. If $a_1$ exists, let $c_i=a_i+carry$.\n",
        "  3. If $b_1$ exists, let $c_i=b_i+carry$.\n",
        "4. Let $carry=0$.\n",
        "5. If $c_i>9$, let $carry=1$ and $c_i=c_i\\text{mod}10$.\n",
        "6. Let $i=i+1$.\n",
        "7. If $a_i$ and $b_i$ exist, go to step 2.\n",
        "8. If $carry>0$, let $c_i=1$.\n",
        "\n",
        "This procedure can be generalized to work with numbers represented in any base, and part of your task is to figure out exactly how.\n",
        "\n",
        "If $c_i>B-1$, let $carry=1$ and $c_i=c_i\\text{mod}B$.\n",
        "\n",
        "# Deliverable #4: In-base Addition\n",
        "\n",
        "In the real world, we would just take the functions we just created above, combine them with the existing addition facilities in the computer and compute sums of numbers represented in any base.\n",
        "\n",
        "But, this isn't the real world at all. This is Discrete Structures.\n",
        "\n",
        "Implement a generic function that performs addition in-base (with carries and everything)."
      ]
    },
    {
      "cell_type": "code",
      "source": [
        "def getCharValue(char, base) :\n",
        "  return base.index(char)"
      ],
      "metadata": {
        "id": "i_yoPRmyj0zr"
      },
      "execution_count": null,
      "outputs": []
    },
    {
      "cell_type": "code",
      "execution_count": null,
      "metadata": {
        "id": "F2p973Rpnw_Z"
      },
      "outputs": [],
      "source": []
    },
    {
      "cell_type": "code",
      "source": [
        "def add(a,b, base):\n",
        "  B = len(base)\n",
        "  charLen = len(base[0])\n",
        "  total = ''\n",
        "  carry = 0 #0\n",
        "  iterations = max(len(a), len(b)) #/ charLen)\n",
        "  #print(\"Iterations:\", iterations)\n",
        "  for i in range(0-charLen, iterations- charLen, charLen) : #1, #6\n",
        "    ci = 0\n",
        "    aChar = a[len(a) - (i + 2) : len(a) - ((i + 1) - (charLen - 1))]\n",
        "    bChar = b[len(b) - (i + 2) : len(b) - ((i + 1) - (charLen - 1))]\n",
        "    #print(\"Characters:\", aChar, bChar)\n",
        "    #print(\"Carry:\", carry)\n",
        "    if (i < len(a) and i < len(b)) : #2 \n",
        "      ci = base.index(aChar) + base.index(bChar) + carry\n",
        "      #print(\"ci:\",ci)\n",
        "    else: #3\n",
        "      if (i < len(a)) :\n",
        "        ci = base.index(aChar) + carry\n",
        "        #print(\"ci:\",ci)\n",
        "      if (i < len(b)) :\n",
        "        ci = base.index(bChar) + carry\n",
        "        #print(\"ci:\",ci)\n",
        "    carry = 0 #4\n",
        "    if (ci > (B-1)) : #5\n",
        "      carry = 1\n",
        "      ci = ci % B\n",
        "      #print(\"ci:\",ci)\n",
        "    j = i - charLen #6\n",
        "    if (not (j < len(b) and j < len(a))) :\n",
        "      break\n",
        "    total = intToString(ci, base) + total\n",
        "  if carry > 0 : \n",
        "    ci = 1\n",
        "    total = intToString(ci, base) + total\n",
        "  return total\n",
        "\n",
        "expectEqual(add('123','123',base10), '246')\n",
        "expectEqual(add('98','123',base10), '221')\n",
        "expectEqual(add('lOl','lO',base2), 'lll')\n",
        "expectEqual(add('lOlO','lO',base2), 'llOO')\n",
        "expectEqual(add('123','123',base8), '246')\n",
        "expectEqual(add('4563','77',base8), '4662')\n",
        "expectEqual(add('123','123',duodecimal), '246')\n",
        "expectEqual(add('123','123',base16), '246')\n",
        "expectEqual(add('4563','78',base16), '45DB')\n",
        "expectEqual(add('ᐄᐇ','ᑅᑇᑈ',aliens), 'ᑅᑌᑐ')\n",
        "expectEqual(add('ᒍᒏᒐ','ᒍᒏᒐ',aliens), 'ᐃᑯᑱᑲ')\n",
        "expectEqual(add('ᒒᒕᒗᒘᒝ','ᑅᑇᑈ',aliens), 'ᒒᒗᑀᑅᑇ')\n",
        "#expectEqual(add('𒊹𒑰𒊹𒈫𒊹𒐈','𒊹𒑰𒊹𒈫𒊹𒐈',babylonian), '𒊹𒈫𒊹𒐉𒊹𒐋')\n",
        "#expectEqual(add('𒑪𒑄','𒑪𒑆',babylonian), '𒊹𒑰𒑪𒑂')\n",
        "\n",
        "# WORKS until babylonian gets invloved\n"
      ],
      "metadata": {
        "id": "tTjFKKy8ibIr"
      },
      "execution_count": null,
      "outputs": []
    },
    {
      "cell_type": "code",
      "source": [
        "thing = 'll23'\n",
        "thing2 = '23'\n",
        "charLen = len(babylonian[0])\n",
        "maxRange = max(len(thing), len(thing2))\n",
        "for i in range(0, maxRange, charLen) :\n",
        "  print(len(thing) - (i + 2),  len(thing) - ((i + 1) - (charLen -1)))\n",
        "  a = thing[len(thing) - (i + 2) : len(thing) - ((i + 1) - (charLen -1))]\n",
        "  b = thing2[len(thing2) - (i + 2) : len(thing2) - ((i + 1) - (charLen -1))]\n",
        "  print(a, b)"
      ],
      "metadata": {
        "colab": {
          "base_uri": "https://localhost:8080/"
        },
        "id": "QgusUrKDbfjo",
        "outputId": "b5035428-5f30-4571-dafa-2526ddd332c2"
      },
      "execution_count": null,
      "outputs": [
        {
          "output_type": "stream",
          "name": "stdout",
          "text": [
            "2 4\n",
            "23 23\n",
            "0 2\n",
            "ll \n"
          ]
        }
      ]
    },
    {
      "cell_type": "markdown",
      "metadata": {
        "id": "WGJxOWSynw_Z"
      },
      "source": [
        "$^1$*Check out the [Wikipedia article](https://en.wikipedia.org/wiki/Duodecimal) if you happen to be in the market for a new counting system*"
      ]
    }
  ],
  "metadata": {
    "kernelspec": {
      "display_name": "Python 3",
      "language": "python",
      "name": "python3"
    },
    "language_info": {
      "codemirror_mode": {
        "name": "ipython",
        "version": 3
      },
      "file_extension": ".py",
      "mimetype": "text/x-python",
      "name": "python",
      "nbconvert_exporter": "python",
      "pygments_lexer": "ipython3",
      "version": "3.8.5"
    },
    "colab": {
      "provenance": []
    }
  },
  "nbformat": 4,
  "nbformat_minor": 0
}